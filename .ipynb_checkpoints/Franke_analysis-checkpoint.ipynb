{
 "cells": [
  {
   "cell_type": "code",
   "execution_count": null,
   "metadata": {},
   "outputs": [],
   "source": [
    "from mpl_toolkits.mplot3d import Axes3D\n",
    "import matplotlib.pyplot as plt\n",
    "from matplotlib import cm\n",
    "from matplotlib.ticker import LinearLocator, FormatStrFormatter\n",
    "import numpy as np\n",
    "from random import random, seed, randrange\n",
    "from scipy import stats\n",
    "from functions1 import *\n",
    "%matplotlib inline\n",
    "seed=1\n",
    "\n",
    "#Generating data\n",
    "x = np.arange(0, 1, 0.01)\n",
    "y = np.arange(0, 1, 0.01)\n",
    "\n",
    "x, y = np.meshgrid(x,y)\n",
    "z = FrankeFunction(x, y) +0.02*np.random.randn(100,100)\n",
    "fig=plotTheSurface(x,y,z)\n",
    "fig.show()\n",
    "\n",
    "#Creating vectors of the generated data\n",
    "xVector=np.matrix.flatten(x)\n",
    "yVector=np.matrix.flatten(y)\n",
    "zVector=np.matrix.flatten(z)\n",
    "sizeVector=np.size(zVector)\n",
    "matrixSize=np.size(y,0)"
   ]
  },
  {
   "cell_type": "code",
   "execution_count": null,
   "metadata": {},
   "outputs": [],
   "source": [
    "# Divide data into a training set and a test set\n",
    "indeces1=np.linspace(0,sizeVector-1,sizeVector)\n",
    "train1,test1=train_test_split(indeces1, 0.7)\n",
    "train1=train1.astype(int)\n",
    "test1=test1.astype(int)\n",
    "beta,Xinv=OSLregression(xVector[train1],yVector[train1],zVector[train1],3)\n",
    "zPredict=computeZpredict(xVector[test1],yVector[test1],beta,3)\n",
    "print(MSE(zVector[test1],zPredict))\n",
    "print(r2score(zVector[test1],zPredict))\n",
    "print(beta)\n",
    "#confidence interval\n",
    "CI=cofidentint(Xinv,zVector[test1],zPredict,beta)\n",
    "print(CI)"
   ]
  },
  {
   "cell_type": "code",
   "execution_count": null,
   "metadata": {},
   "outputs": [],
   "source": [
    "# Creating folds for K-folds CV\n",
    "indeces=np.linspace(0,sizeVector-1,sizeVector)\n",
    "indeces=indeces.astype(int)\n",
    "numberOfFolds=10\n",
    "folds = k_folds_CV(indeces, numberOfFolds)\n",
    "\n",
    "polynom_oders=[3,4,5]"
   ]
  },
  {
   "cell_type": "code",
   "execution_count": null,
   "metadata": {},
   "outputs": [],
   "source": [
    "\n",
    "#OLS model\n",
    "zPredictmatrix,statsMatrix,betaMatrix=olsModel(polynom_oders,xVector,yVector,zVector,numberOfFolds,folds,indeces)\n",
    "\n",
    "#printing results\n",
    "beta1=np.median(betaMatrix[:,:,2],1)\n",
    "z_pred=computeZpredict(xVector,yVector,beta1,5)\n",
    "bias,var=computeBiasandVar(zPredictmatrix[:,:,2],zVector)\n",
    "print('Bias^2 for the final model is: ' + str(bias))\n",
    "print('Var for the final model is: ' + str(var))\n",
    "for j,order in enumerate(polynom_oders):\n",
    "    print('STATS of MSE for polynom order {} is:'.format(str(order)))\n",
    "    print(stats.describe(statsMatrix[0,:,j]))\n",
    "    print('STATS of R2score for polynom order {} is:'.format(str(order)))\n",
    "    print(stats.describe(statsMatrix[1,:,j]))\n",
    "    print('\\n')\n",
    "#plot\n",
    "matrixSize=np.size(y,0)\n",
    "zPredictReshape=np.reshape(z_pred,(matrixSize,matrixSize))\n",
    "fig1=plotTheSurface(x,y,zPredictReshape)\n",
    "fig1.show()\n",
    "#fig1.savefig('olsFranke.png')\n",
    "\n",
    "print('bias of the final model ' + str(bias))\n",
    "print('variance of the final model ' + str(var))\n"
   ]
  },
  {
   "cell_type": "code",
   "execution_count": null,
   "metadata": {},
   "outputs": [],
   "source": [
    "#Ridge regression\n",
    "alpha_values=[1e-3,1e-2,1e-1,1,10,1e2]\n",
    "zPredictmatrix,statsMatrix,betaMatrix=ridge_regress(alpha_values,polynom_oders,xVector,yVector,zVector,numberOfFolds,folds,indeces)\n",
    "for j,order in enumerate(polynom_oders):\n",
    "    for  h,lbd in enumerate(alpha_values): \n",
    "        print(lbd)\n",
    "        print('Average of MSE for polynom order {} is:'.format(str(order)) + str(np.mean(statsMatrix[0,:,h,j])))\n",
    "        print('Average of R2score for polynom order {} is:'.format(str(order)) + str(np.mean(statsMatrix[1,:,h,j])))\n",
    "        print('\\n')\n",
    "beta1=np.median(betaMatrix[:,:,0,2],1)\n",
    "z_pred=computeZpredict(xVector,yVector,beta1,5)\n",
    "bias,var=computeBiasandVar(zPredictmatrix[:,:,0,2],zVector)\n",
    "print('Bias for the final model is: ' + str(bias))\n",
    "print('Var for the final model is: ' + str(var))\n"
   ]
  },
  {
   "cell_type": "code",
   "execution_count": null,
   "metadata": {},
   "outputs": [],
   "source": [
    "#Lasso\n",
    "zPredictmatrix,statsMatrix,betaMatrix=lassoRegress(alpha_values,polynom_oders,xVector,yVector,zVector,numberOfFolds,folds,indeces)\n",
    "for j,order in enumerate(polynom_oders):\n",
    "    for  h,lbd in enumerate(alpha_values): \n",
    "        print(lbd)\n",
    "        print('Average of MSE for polynom order {} is:'.format(str(order)) + str(np.mean(statsMatrix[0,:,h,j])))\n",
    "        print('Average of R2score for polynom order {} is:'.format(str(order)) + str(np.mean(statsMatrix[1,:,h,j])))\n",
    "        print('\\n')\n",
    "beta1=np.mean(betaMatrix[:,:,0,2],1)\n",
    "z_pred=computeZpredict(xVector,yVector,beta1,5)\n",
    "bias,var=computeBiasandVar(zPredictmatrix[:,:,0,2],zVector)\n",
    "print('Bias for the final model is: ' + str(bias))\n",
    "print('Var for the final model is: ' + str(var))"
   ]
  },
  {
   "cell_type": "code",
   "execution_count": null,
   "metadata": {},
   "outputs": [],
   "source": []
  }
 ],
 "metadata": {
  "kernelspec": {
   "display_name": "Python 3",
   "language": "python",
   "name": "python3"
  },
  "language_info": {
   "codemirror_mode": {
    "name": "ipython",
    "version": 3
   },
   "file_extension": ".py",
   "mimetype": "text/x-python",
   "name": "python",
   "nbconvert_exporter": "python",
   "pygments_lexer": "ipython3",
   "version": "3.6.5"
  }
 },
 "nbformat": 4,
 "nbformat_minor": 2
}
