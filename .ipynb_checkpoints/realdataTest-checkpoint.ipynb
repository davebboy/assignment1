{
 "cells": [
  {
   "cell_type": "code",
   "execution_count": null,
   "metadata": {},
   "outputs": [],
   "source": [
    "import numpy as np\n",
    "from imageio import imread\n",
    "import matplotlib.pyplot as plt\n",
    "from mpl_toolkits.mplot3d import Axes3D\n",
    "from matplotlib import cm\n",
    "from functions1 import *\n",
    "%matplotlib inline\n",
    "# Load the terrain\n",
    "terrain1 = imread('data/SRTM_data_Norway_1.tif')\n",
    "# Show the terrain\n",
    "plt.figure(figsize=(20,10))\n",
    "plt.title('Terrain over Prague')\n",
    "plt.imshow(terrain1, cmap='gray')\n",
    "plt.xlabel('X')\n",
    "plt.ylabel('Y')\n",
    "plt.show()"
   ]
  },
  {
   "cell_type": "code",
   "execution_count": null,
   "metadata": {},
   "outputs": [],
   "source": []
  },
  {
   "cell_type": "code",
   "execution_count": null,
   "metadata": {},
   "outputs": [],
   "source": []
  },
  {
   "cell_type": "code",
   "execution_count": null,
   "metadata": {},
   "outputs": [],
   "source": []
  },
  {
   "cell_type": "code",
   "execution_count": null,
   "metadata": {},
   "outputs": [],
   "source": [
    "x = np.arange(0, 1801, 1)\n",
    "y = np.arange(3600, -1, -1)\n",
    "#x = np.random.rand(100,1)\n",
    "#y = np.random.rand(100,1)\n",
    "#print(x[0:450])\n",
    "#print(y)\n",
    "x, y = np.meshgrid(x,y)\n"
   ]
  },
  {
   "cell_type": "code",
   "execution_count": null,
   "metadata": {},
   "outputs": [],
   "source": [
    "x1=np.log(x[1:225,1:450])\n",
    "y1=np.log(y[1:225,1:450])\n",
    "z1=(terrain1[1:225,1:450])"
   ]
  },
  {
   "cell_type": "code",
   "execution_count": null,
   "metadata": {},
   "outputs": [],
   "source": []
  },
  {
   "cell_type": "code",
   "execution_count": null,
   "metadata": {},
   "outputs": [],
   "source": [
    "plt.figure(figsize=(30,20))\n",
    "plt.title('Terrain over Norway1')\n",
    "plt.imshow(z1, cmap='gray')\n",
    "plt.xlabel('X')\n",
    "plt.ylabel('Y')\n",
    "plt.show()"
   ]
  },
  {
   "cell_type": "code",
   "execution_count": null,
   "metadata": {},
   "outputs": [],
   "source": [
    "#Plotting as a 3D figure\n",
    "p1=plotTheSurface(x1,y1,z1)\n",
    "p1.show()"
   ]
  },
  {
   "cell_type": "code",
   "execution_count": null,
   "metadata": {},
   "outputs": [],
   "source": [
    "\n",
    "xVector=np.matrix.flatten(x1)\n",
    "yVector=np.matrix.flatten(y1)\n",
    "#vectorSize=np.size(yVector,0)\n",
    "zVector=np.matrix.flatten(z1)\n",
    "vectorSize=np.size(yVector,0)\n",
    "matrixSizey=np.size(y1,1)\n",
    "matrixSizex=np.size(x1,0)\n"
   ]
  },
  {
   "cell_type": "code",
   "execution_count": null,
   "metadata": {},
   "outputs": [],
   "source": [
    "\n"
   ]
  },
  {
   "cell_type": "code",
   "execution_count": null,
   "metadata": {},
   "outputs": [],
   "source": []
  },
  {
   "cell_type": "code",
   "execution_count": null,
   "metadata": {},
   "outputs": [],
   "source": []
  },
  {
   "cell_type": "code",
   "execution_count": null,
   "metadata": {},
   "outputs": [],
   "source": [
    "\n",
    "beta,xx=OSLregression(xVector,yVector,zVector,5)\n",
    "zPredictmatrix=computeZpredict(xVector,yVector,beta,5)\n",
    "MSE1=MSE(zVector,zPredictmatrix)\n",
    "r2score1=r2score(zVector,zPredictmatrix)"
   ]
  },
  {
   "cell_type": "code",
   "execution_count": null,
   "metadata": {},
   "outputs": [],
   "source": [
    "print(MSE1)\n",
    "print(r2score1)\n",
    "zPredictReshape=np.reshape(zPredictmatrix,(matrixSizex,matrixSizey))\n",
    "\n",
    "fig1=plotTheSurface(x1,y1,zPredictReshape)\n",
    "fig1.show()"
   ]
  },
  {
   "cell_type": "code",
   "execution_count": null,
   "metadata": {},
   "outputs": [],
   "source": [
    "print(zPredictReshape)"
   ]
  },
  {
   "cell_type": "code",
   "execution_count": null,
   "metadata": {},
   "outputs": [],
   "source": []
  },
  {
   "cell_type": "code",
   "execution_count": null,
   "metadata": {},
   "outputs": [],
   "source": [
    "#transforming to a coluum vector in order to form an x_hat matrix\n",
    "#xVector=xVector[0:200]\n",
    "#yVector=yVector[0:200]\n",
    "#vectorSize=np.size(yVector,0)\n",
    "#zVector=zVector[0:200]\n",
    "sizeVector=np.size(zVector)\n",
    "indeces=np.linspace(0,sizeVector-1,sizeVector)\n",
    "indeces=indeces.astype(int)\n",
    "numberOfFolds=10\n",
    "folds = k_folds_CV(indeces, numberOfFolds)\n",
    "\n",
    "polynom_oders=[2,3,4,5]"
   ]
  },
  {
   "cell_type": "code",
   "execution_count": null,
   "metadata": {},
   "outputs": [],
   "source": [
    "zPredictmatrix,statsMatrix,betaMatrix=olsModel(polynom_oders,xVector,yVector,zVector,numberOfFolds,folds,indeces)"
   ]
  },
  {
   "cell_type": "code",
   "execution_count": null,
   "metadata": {},
   "outputs": [],
   "source": [
    "z_pred=np.mean(zPredictmatrix[:,:,3],1)\n",
    "\n",
    "zPredictReshape=np.reshape(z_pred,(matrixSizex,matrixSizey))\n",
    "\n",
    "fig1=plotTheSurface(x1,y1,zPredictReshape)\n",
    "fig1.show()"
   ]
  },
  {
   "cell_type": "code",
   "execution_count": null,
   "metadata": {},
   "outputs": [],
   "source": [
    "plt.figure(figsize=(30,20))\n",
    "plt.title('Terrain over Prague')\n",
    "plt.imshow(zPredictReshape, cmap='gray')\n",
    "plt.xlabel('X')\n",
    "plt.ylabel('Y')\n",
    "plt.show()"
   ]
  },
  {
   "cell_type": "code",
   "execution_count": null,
   "metadata": {},
   "outputs": [],
   "source": [
    "lambda_values=[1e-3,1e-2,1e-1,1,10,1e2]\n",
    "zPredictmatrix,statsMatrix=ridge_regress(lambda_values,polynom_oders,xVector,yVector,zVector,numberOfFolds,folds,indeces)\n",
    "for j,order in enumerate(polynom_oders):\n",
    "    for  h,lbd in enumerate(lambda_values): \n",
    "        print(lbd)\n",
    "        print('Average of MSE for polynom order {} is:'.format(str(order)) + str(np.mean(statsMatrix[0,:,h,j])))\n",
    "        print('Average of R2score for polynom order {} is:'.format(str(order)) + str(np.mean(statsMatrix[1,:,h,j])))\n",
    "        print('\\n')"
   ]
  },
  {
   "cell_type": "code",
   "execution_count": null,
   "metadata": {},
   "outputs": [],
   "source": [
    "z_pred=np.mean(zPredictmatrix[:,:,5,3],1)\n",
    "\n",
    "zPredictReshape=np.reshape(z_pred,(matrixSizex,matrixSizey))\n",
    "\n",
    "fig1=plotTheSurface(x1,y1,zPredictReshape)\n",
    "fig1.show()"
   ]
  },
  {
   "cell_type": "code",
   "execution_count": null,
   "metadata": {},
   "outputs": [],
   "source": [
    "lambda_values=[1e-3,1e-2,1e-1,1,10]\n",
    "zPredictmatrix,statsMatrix=lassoRegress(lambda_values,polynom_oders,xVector,yVector,zVector,numberOfFolds,folds,indeces)\n",
    "for j,order in enumerate(polynom_oders):\n",
    "    for  h,lbd in enumerate(lambda_values): \n",
    "        print(lbd)\n",
    "        print('Average of MSE for polynom order {} is:'.format(str(order)) + str(np.mean(statsMatrix[0,:,h,j])))\n",
    "        print('Average of R2score for polynom order {} is:'.format(str(order)) + str(np.mean(statsMatrix[1,:,h,j])))\n",
    "        print('\\n')"
   ]
  },
  {
   "cell_type": "code",
   "execution_count": null,
   "metadata": {},
   "outputs": [],
   "source": [
    "z_pred=np.mean(zPredictmatrix[:,:,0,3],1)\n",
    "\n",
    "zPredictReshape=np.reshape(z_pred,(matrixSizex,matrixSizey))\n",
    "\n",
    "fig1=plotTheSurface(x,y,zPredictReshape)\n",
    "fig1.show()"
   ]
  },
  {
   "cell_type": "code",
   "execution_count": null,
   "metadata": {},
   "outputs": [],
   "source": [
    "\n"
   ]
  },
  {
   "cell_type": "code",
   "execution_count": null,
   "metadata": {},
   "outputs": [],
   "source": []
  },
  {
   "cell_type": "code",
   "execution_count": null,
   "metadata": {},
   "outputs": [],
   "source": []
  },
  {
   "cell_type": "code",
   "execution_count": null,
   "metadata": {},
   "outputs": [],
   "source": []
  }
 ],
 "metadata": {
  "kernelspec": {
   "display_name": "Python 3",
   "language": "python",
   "name": "python3"
  },
  "language_info": {
   "codemirror_mode": {
    "name": "ipython",
    "version": 3
   },
   "file_extension": ".py",
   "mimetype": "text/x-python",
   "name": "python",
   "nbconvert_exporter": "python",
   "pygments_lexer": "ipython3",
   "version": "3.6.5"
  }
 },
 "nbformat": 4,
 "nbformat_minor": 2
}
