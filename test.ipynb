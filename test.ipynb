{
 "cells": [
  {
   "cell_type": "code",
   "execution_count": null,
   "metadata": {},
   "outputs": [],
   "source": [
    "import numpy as np\n",
    "from scipy.misc import imread\n",
    "import matplotlib.pyplot as plt\n",
    "from mpl_toolkits.mplot3d import Axes3D\n",
    "from matplotlib import cm\n",
    "from functions1 import *\n",
    "\n",
    "def surface_plot(surface,title):\n",
    "    M,N = surface.shape\n",
    "\n",
    "    ax_rows = np.arange(M)\n",
    "    ax_cols = np.arange(N)\n",
    "\n",
    "    [X,Y] = np.meshgrid(ax_cols, ax_rows)\n",
    "\n",
    "    fig = plt.figure()\n",
    "    ax = fig.gca(projection='3d')\n",
    "    ax.plot_surface(X,Y,surface,cmap=cm.viridis,linewidth=0)\n",
    "    plt.title(title)\n",
    "\n",
    "if __name__ == '__main__':\n",
    "\n",
    "    # Load the terrain\n",
    "    terrain1 = imread('SRTM_data_Norway_1.tif')\n",
    "\n",
    "    #terrain2 = imread('SRTM_data_Norway_2.tif')\n",
    "\n",
    "    # Show the terrain\n",
    "    plt.figure()\n",
    "    plt.title('Terrain over Norway 1')\n",
    "    plt.imshow(terrain1, cmap='gray')\n",
    "    plt.xlabel('X')\n",
    "    plt.ylabel('Y')\n",
    "\n",
    "    surface_plot(terrain1,'Surface plot over Norway 1')\n",
    "\n",
    "    plt.show()\n",
    "\n",
    "    # Extract a smaller patch of the terrain\n",
    "    row_start = 1950\n",
    "    row_end = 2050\n",
    "\n",
    "    col_start = 1200\n",
    "    col_end = 1450\n",
    "\n",
    "    terrain1_patch = terrain1[row_start:row_end, col_start:col_end]\n",
    "\n",
    "    surface_plot(terrain1_patch,'Surface plot ovar a patch of Norway 1')\n",
    "\n",
    "    plt.show()\n",
    "\n",
    "    # Perform a OLS fitting using the whole axis pf the terrain data\n",
    "    num_rows, num_cols = terrain1_patch.shape\n",
    "\n",
    "    rows = np.arange(num_rows)\n",
    "    cols = np.arange(num_cols)\n",
    "\n",
    "    [C,R] = np.meshgrid(cols,rows)\n",
    "\n",
    "    x = C.reshape(-1,1)\n",
    "    y = R.reshape(-1,1)\n",
    "    z = terrain1_patch.flatten()\n",
    "\n",
    "    data = np.c_[np.ones((num_rows*num_cols,1)), x, y, x**2, x*y, y**2, \\\n",
    "                x**3, x**2*y, x*y**2, y**3, \\\n",
    "                x**4, x**3*y, x**2*y**2, x*y**3,y**4, \\\n",
    "                x**5, x**4*y, x**3*y**2, x**2*y**3,x*y**4, y**5]\n",
    "\n",
    "    beta_ls = np.linalg.inv(data.T @ data) @ data.T @ z\n",
    "\n",
    "    fitted_terrain = np.zeros((num_rows, num_cols))\n",
    "    for i in range(num_rows):\n",
    "        y_ = rows[i]\n",
    "        for j in range(num_cols):\n",
    "            x_ = cols[j]\n",
    "\n",
    "            data_vec = np.array([1, x_, y_, x_**2, x_*y_, y_**2, \\\n",
    "                                x_**3, x_**2*y_, x_*y_**2, y_**3, \\\n",
    "                                x_**4, x_**3*y_, x_**2*y_**2, x_*y_**3,y_**4, \\\n",
    "                                x_**5, x_**4*y_, x_**3*y_**2, x_**2*y_**3,x_*y_**4,y_**5])\n",
    "            fitted_terrain[i,j] = data_vec @ beta_ls\n",
    "\n",
    "    surface_plot(fitted_terrain,'Fitted terrain surface')\n",
    "\n",
    "    plt.show()"
   ]
  },
  {
   "cell_type": "code",
   "execution_count": null,
   "metadata": {},
   "outputs": [],
   "source": [
    "xVector=x\n",
    "yVector=y\n",
    "zVector=z\n",
    "#matrixSizey=np.size(y1,1)\n",
    "#matrixSizex=np.size(x1,0)"
   ]
  },
  {
   "cell_type": "code",
   "execution_count": null,
   "metadata": {},
   "outputs": [],
   "source": [
    "#Preparation for k-folds CV\n",
    "sizeVector=np.size(zVector)\n",
    "indeces=np.linspace(0,sizeVector-1,sizeVector)\n",
    "indeces=indeces.astype(int)\n",
    "numberOfFolds=10\n",
    "folds = k_folds_CV(indeces, numberOfFolds)"
   ]
  },
  {
   "cell_type": "code",
   "execution_count": null,
   "metadata": {},
   "outputs": [],
   "source": [
    "polynom_oders=[2,3,4,5]\n",
    "zPredictmatrix,statsMatrix,betaMatrix=olsModel(polynom_oders,xVector,yVector,zVector,numberOfFolds,folds,indeces)"
   ]
  },
  {
   "cell_type": "code",
   "execution_count": null,
   "metadata": {},
   "outputs": [],
   "source": [
    "print(beta_ls)"
   ]
  },
  {
   "cell_type": "code",
   "execution_count": null,
   "metadata": {},
   "outputs": [],
   "source": [
    "print(data_vec)"
   ]
  },
  {
   "cell_type": "code",
   "execution_count": null,
   "metadata": {},
   "outputs": [],
   "source": [
    "print(data_vec @ beta_ls)"
   ]
  },
  {
   "cell_type": "code",
   "execution_count": null,
   "metadata": {},
   "outputs": [],
   "source": [
    "fitted_terrain2 = data @ beta_ls\n",
    "fitted_terrain2 = fitted_terrain2.reshape(100,250)\n",
    "surface_plot(fitted_terrain2,'Fitted terrain surface')"
   ]
  },
  {
   "cell_type": "code",
   "execution_count": null,
   "metadata": {},
   "outputs": [],
   "source": [
    "z_predict=fitted_terrain.flatten()"
   ]
  },
  {
   "cell_type": "code",
   "execution_count": null,
   "metadata": {},
   "outputs": [],
   "source": [
    "print(MSE(z,z_predict))"
   ]
  },
  {
   "cell_type": "code",
   "execution_count": null,
   "metadata": {},
   "outputs": [],
   "source": [
    "plt.figure()\n",
    "plt.title('Terrain over Norway 1')\n",
    "plt.imshow(fitted_terrain, cmap='gray')\n",
    "plt.xlabel('X')\n",
    "plt.ylabel('Y')"
   ]
  },
  {
   "cell_type": "code",
   "execution_count": null,
   "metadata": {},
   "outputs": [],
   "source": [
    "plt.figure()\n",
    "plt.title('Terrain over Norway 1')\n",
    "plt.imshow(fitted_terrain, cmap='gray')\n",
    "plt.xlabel('X')\n",
    "plt.ylabel('Y')"
   ]
  },
  {
   "cell_type": "code",
   "execution_count": null,
   "metadata": {},
   "outputs": [],
   "source": [
    "beta1,XXinv1 =OSLregression(xVector,yVector,zVector,5)"
   ]
  },
  {
   "cell_type": "code",
   "execution_count": null,
   "metadata": {},
   "outputs": [],
   "source": [
    "print(beta1)"
   ]
  },
  {
   "cell_type": "code",
   "execution_count": null,
   "metadata": {},
   "outputs": [],
   "source": [
    "print(beta_ls)"
   ]
  },
  {
   "cell_type": "code",
   "execution_count": null,
   "metadata": {},
   "outputs": [],
   "source": []
  }
 ],
 "metadata": {
  "kernelspec": {
   "display_name": "Python 3",
   "language": "python",
   "name": "python3"
  },
  "language_info": {
   "codemirror_mode": {
    "name": "ipython",
    "version": 3
   },
   "file_extension": ".py",
   "mimetype": "text/x-python",
   "name": "python",
   "nbconvert_exporter": "python",
   "pygments_lexer": "ipython3",
   "version": "3.6.5"
  }
 },
 "nbformat": 4,
 "nbformat_minor": 2
}
