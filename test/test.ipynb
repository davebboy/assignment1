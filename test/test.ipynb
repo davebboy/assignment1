{
 "cells": [
  {
   "cell_type": "code",
   "execution_count": 1,
   "metadata": {},
   "outputs": [
    {
     "name": "stderr",
     "output_type": "stream",
     "text": [
      "/anaconda3/lib/python3.6/site-packages/ipykernel_launcher.py:24: DeprecationWarning: `imread` is deprecated!\n",
      "`imread` is deprecated in SciPy 1.0.0, and will be removed in 1.2.0.\n",
      "Use ``imageio.imread`` instead.\n"
     ]
    }
   ],
   "source": [
    "import numpy as np\n",
    "from scipy.misc import imread\n",
    "import matplotlib.pyplot as plt\n",
    "from mpl_toolkits.mplot3d import Axes3D\n",
    "from matplotlib import cm\n",
    "from functions1 import *\n",
    "\n",
    "def surface_plot(surface,title):\n",
    "    M,N = surface.shape\n",
    "\n",
    "    ax_rows = np.arange(M)\n",
    "    ax_cols = np.arange(N)\n",
    "\n",
    "    [X,Y] = np.meshgrid(ax_cols, ax_rows)\n",
    "\n",
    "    fig = plt.figure()\n",
    "    ax = fig.gca(projection='3d')\n",
    "    ax.plot_surface(X,Y,surface,cmap=cm.viridis,linewidth=0)\n",
    "    plt.title(title)\n",
    "\n",
    "if __name__ == '__main__':\n",
    "\n",
    "    # Load the terrain\n",
    "    terrain1 = imread('SRTM_data_Norway_1.tif')\n",
    "\n",
    "    #terrain2 = imread('SRTM_data_Norway_2.tif')\n",
    "\n",
    "    # Show the terrain\n",
    "    plt.figure()\n",
    "    plt.title('Terrain over Norway 1')\n",
    "    plt.imshow(terrain1, cmap='gray')\n",
    "    plt.xlabel('X')\n",
    "    plt.ylabel('Y')\n",
    "\n",
    "    surface_plot(terrain1,'Surface plot over Norway 1')\n",
    "\n",
    "    #plt.show()\n",
    "\n",
    "    # Extract a smaller patch of the terrain\n",
    "    row_start = 1950\n",
    "    row_end = 2050\n",
    "\n",
    "    col_start = 1200\n",
    "    col_end = 1450\n",
    "\n",
    "    terrain1_patch = terrain1[row_start:row_end, col_start:col_end]\n",
    "\n",
    "    surface_plot(terrain1_patch,'Surface plot ovar a patch of Norway 1')\n",
    "\n",
    "    #plt.show()\n",
    "\n",
    "    # Perform a OLS fitting using the whole axis pf the terrain data\n",
    "    num_rows, num_cols = terrain1_patch.shape\n",
    "\n",
    "    rows = np.arange(num_rows)\n",
    "    cols = np.arange(num_cols)\n",
    "\n",
    "    [C,R] = np.meshgrid(cols,rows)\n",
    "\n",
    "    x = C.reshape(-1,1)\n",
    "    y = R.reshape(-1,1)\n",
    "    z = terrain1_patch.flatten()\n",
    "\n",
    "    data = np.c_[np.ones((num_rows*num_cols,1)), x, y, x**2, x*y, y**2, \\\n",
    "                x**3, x**2*y, x*y**2, y**3, \\\n",
    "                x**4, x**3*y, x**2*y**2, x*y**3,y**4, \\\n",
    "                x**5, x**4*y, x**3*y**2, x**2*y**3,x*y**4, y**5]\n",
    "\n",
    "    beta_ls = np.linalg.inv(data.T @ data) @ data.T @ z\n",
    "\n",
    "    fitted_terrain = np.zeros((num_rows, num_cols))\n",
    "    for i in range(num_rows):\n",
    "        y_ = rows[i]\n",
    "        for j in range(num_cols):\n",
    "            x_ = cols[j]\n",
    "\n",
    "            data_vec = np.array([1, x_, y_, x_**2, x_*y_, y_**2, \\\n",
    "                                x_**3, x_**2*y_, x_*y_**2, y_**3, \\\n",
    "                                x_**4, x_**3*y_, x_**2*y_**2, x_*y_**3,y_**4, \\\n",
    "                                x_**5, x_**4*y_, x_**3*y_**2, x_**2*y_**3,x_*y_**4,y_**5])\n",
    "            fitted_terrain[i,j] = data_vec @ beta_ls\n",
    "\n",
    "    surface_plot(fitted_terrain,'Fitted terrain surface')\n",
    "\n",
    "    #plt.show()"
   ]
  },
  {
   "cell_type": "code",
   "execution_count": 5,
   "metadata": {},
   "outputs": [
    {
     "name": "stdout",
     "output_type": "stream",
     "text": [
      "25000\n",
      "25000\n"
     ]
    }
   ],
   "source": [
    "xVector=x\n",
    "print(np.size(x))\n",
    "yVector=y\n",
    "print(np.size(y))\n",
    "zVector=z\n",
    "#matrixSizey=np.size(y1,1)\n",
    "#matrixSizex=np.size(x1,0)"
   ]
  },
  {
   "cell_type": "code",
   "execution_count": null,
   "metadata": {},
   "outputs": [],
   "source": [
    "#Preparation for k-folds CV\n",
    "sizeVector=np.size(zVector)\n",
    "indeces=np.linspace(0,sizeVector-1,sizeVector)\n",
    "indeces=indeces.astype(int)\n",
    "numberOfFolds=10\n",
    "folds = k_folds_CV(indeces, numberOfFolds)"
   ]
  },
  {
   "cell_type": "code",
   "execution_count": null,
   "metadata": {},
   "outputs": [],
   "source": [
    "polynom_oders=[2,3,4,5]\n",
    "zPredictmatrix,statsMatrix,betaMatrix=olsModel(polynom_oders,xVector,yVector,zVector,numberOfFolds,folds,indeces)"
   ]
  },
  {
   "cell_type": "code",
   "execution_count": null,
   "metadata": {},
   "outputs": [],
   "source": [
    "print(beta_ls)"
   ]
  },
  {
   "cell_type": "code",
   "execution_count": null,
   "metadata": {},
   "outputs": [],
   "source": [
    "print(data_vec)"
   ]
  },
  {
   "cell_type": "code",
   "execution_count": null,
   "metadata": {},
   "outputs": [],
   "source": [
    "print(data_vec @ beta_ls)"
   ]
  },
  {
   "cell_type": "code",
   "execution_count": null,
   "metadata": {},
   "outputs": [],
   "source": [
    "fitted_terrain2 = data @ beta_ls\n",
    "fitted_terrain2 = fitted_terrain2.reshape(100,250)\n",
    "surface_plot(fitted_terrain2,'Fitted terrain surface')"
   ]
  },
  {
   "cell_type": "code",
   "execution_count": null,
   "metadata": {},
   "outputs": [],
   "source": [
    "z_predict=fitted_terrain.flatten()"
   ]
  },
  {
   "cell_type": "code",
   "execution_count": null,
   "metadata": {},
   "outputs": [],
   "source": [
    "print(MSE(z,z_predict))"
   ]
  },
  {
   "cell_type": "code",
   "execution_count": null,
   "metadata": {},
   "outputs": [],
   "source": [
    "plt.figure()\n",
    "plt.title('Terrain over Norway 1')\n",
    "plt.imshow(fitted_terrain, cmap='gray')\n",
    "plt.xlabel('X')\n",
    "plt.ylabel('Y')"
   ]
  },
  {
   "cell_type": "code",
   "execution_count": null,
   "metadata": {},
   "outputs": [],
   "source": [
    "plt.figure()\n",
    "plt.title('Terrain over Norway 1')\n",
    "plt.imshow(fitted_terrain, cmap='gray')\n",
    "plt.xlabel('X')\n",
    "plt.ylabel('Y')"
   ]
  },
  {
   "cell_type": "code",
   "execution_count": null,
   "metadata": {},
   "outputs": [],
   "source": [
    "beta1,XXinv1 =OSLregression(xVector,yVector,zVector,5)"
   ]
  },
  {
   "cell_type": "code",
   "execution_count": null,
   "metadata": {},
   "outputs": [],
   "source": [
    "lambda_values=[1e-3,1e-2,1e-1,1,10,1e2]\n",
    "polynom_oders=[2,3,4,5]\n",
    "zPredictmatrix,statsMatrix,betaMatrix=ridge_regress(lambda_values,polynom_oders,xVector,yVector,zVector,numberOfFolds,folds,indeces)\n",
    "for j,order in enumerate(polynom_oders):\n",
    "    for  h,lbd in enumerate(lambda_values): \n",
    "        print(lbd)\n",
    "        print('Average of MSE for polynom order {} is:'.format(str(order)) + str(np.mean(statsMatrix[0,:,h,j])))\n",
    "        print('Average of R2score for polynom order {} is:'.format(str(order)) + str(np.mean(statsMatrix[1,:,h,j])))\n",
    "        print('\\n')"
   ]
  },
  {
   "cell_type": "code",
   "execution_count": null,
   "metadata": {},
   "outputs": [],
   "source": [
    "matrixSizey=np.size(C,1)\n",
    "matrixSizex=np.size(R,0)\n",
    "beta1=np.mean(betaMatrix[:,:,0,3],1)\n",
    "z_pred=computeZpredict(xVector,yVector,beta1,5)\n",
    "bias,var=computeBiasandVar(zPredictmatrix[:,:,0,3],zVector)\n",
    "print('Bias for the final model is: ' + str(bias))\n",
    "print('Var for the final model is: ' + str(var))\n",
    "zPredictReshape=np.reshape(z_pred,(matrixSizex,matrixSizey))\n",
    "fig1=plotTheSurface(R,C,zPredictReshape)\n",
    "fig1.show()\n",
    "\n",
    "print(str(MSE(z_pred,zVector)))\n",
    "print(bias + var)"
   ]
  },
  {
   "cell_type": "code",
   "execution_count": null,
   "metadata": {},
   "outputs": [],
   "source": [
    "plt.figure()\n",
    "plt.title('Terrain over Norway 1')\n",
    "plt.imshow(zPredictReshape, cmap='gray')\n",
    "plt.xlabel('X')\n",
    "plt.ylabel('Y')"
   ]
  },
  {
   "cell_type": "code",
   "execution_count": 6,
   "metadata": {},
   "outputs": [
    {
     "ename": "KeyboardInterrupt",
     "evalue": "",
     "output_type": "error",
     "traceback": [
      "\u001b[0;31m---------------------------------------------------------------------------\u001b[0m",
      "\u001b[0;31mKeyboardInterrupt\u001b[0m                         Traceback (most recent call last)",
      "\u001b[0;32m<ipython-input-6-df33bb8cc2ec>\u001b[0m in \u001b[0;36m<module>\u001b[0;34m()\u001b[0m\n\u001b[1;32m      3\u001b[0m \u001b[0mindeces\u001b[0m\u001b[0;34m=\u001b[0m\u001b[0mindeces\u001b[0m\u001b[0;34m.\u001b[0m\u001b[0mastype\u001b[0m\u001b[0;34m(\u001b[0m\u001b[0mint\u001b[0m\u001b[0;34m)\u001b[0m\u001b[0;34m\u001b[0m\u001b[0m\n\u001b[1;32m      4\u001b[0m \u001b[0mnumberOfFolds\u001b[0m\u001b[0;34m=\u001b[0m\u001b[0;36m900\u001b[0m\u001b[0;34m\u001b[0m\u001b[0m\n\u001b[0;32m----> 5\u001b[0;31m \u001b[0mfolds\u001b[0m \u001b[0;34m=\u001b[0m \u001b[0mk_folds_CV\u001b[0m\u001b[0;34m(\u001b[0m\u001b[0mindeces\u001b[0m\u001b[0;34m,\u001b[0m \u001b[0mnumberOfFolds\u001b[0m\u001b[0;34m)\u001b[0m\u001b[0;34m\u001b[0m\u001b[0m\n\u001b[0m",
      "\u001b[0;32m~/Documents/GitHub/MachineLearning dave/assignment1/functions1.py\u001b[0m in \u001b[0;36mk_folds_CV\u001b[0;34m(dataset, nfolds)\u001b[0m\n\u001b[1;32m    132\u001b[0m         \u001b[0;32mwhile\u001b[0m \u001b[0mlen\u001b[0m\u001b[0;34m(\u001b[0m\u001b[0mfold\u001b[0m\u001b[0;34m)\u001b[0m \u001b[0;34m<\u001b[0m \u001b[0mfold_size\u001b[0m\u001b[0;34m:\u001b[0m\u001b[0;34m\u001b[0m\u001b[0m\n\u001b[1;32m    133\u001b[0m             \u001b[0mindex\u001b[0m \u001b[0;34m=\u001b[0m \u001b[0mrandrange\u001b[0m\u001b[0;34m(\u001b[0m\u001b[0mlen\u001b[0m\u001b[0;34m(\u001b[0m\u001b[0mdataset_copy\u001b[0m\u001b[0;34m)\u001b[0m\u001b[0;34m)\u001b[0m\u001b[0;34m\u001b[0m\u001b[0m\n\u001b[0;32m--> 134\u001b[0;31m             \u001b[0mfold\u001b[0m\u001b[0;34m.\u001b[0m\u001b[0mappend\u001b[0m\u001b[0;34m(\u001b[0m\u001b[0mdataset_copy\u001b[0m\u001b[0;34m.\u001b[0m\u001b[0mpop\u001b[0m\u001b[0;34m(\u001b[0m\u001b[0mindex\u001b[0m\u001b[0;34m)\u001b[0m\u001b[0;34m)\u001b[0m\u001b[0;34m\u001b[0m\u001b[0m\n\u001b[0m\u001b[1;32m    135\u001b[0m         \u001b[0msplitedDataset\u001b[0m\u001b[0;34m.\u001b[0m\u001b[0mappend\u001b[0m\u001b[0;34m(\u001b[0m\u001b[0mfold\u001b[0m\u001b[0;34m)\u001b[0m\u001b[0;34m\u001b[0m\u001b[0m\n\u001b[1;32m    136\u001b[0m     \u001b[0;32mreturn\u001b[0m \u001b[0msplitedDataset\u001b[0m\u001b[0;34m\u001b[0m\u001b[0m\n",
      "\u001b[0;31mKeyboardInterrupt\u001b[0m: "
     ]
    }
   ],
   "source": [
    "sizeVector=6480000\n",
    "indeces=np.linspace(0,sizeVector-1,sizeVector)\n",
    "indeces=indeces.astype(int)\n",
    "numberOfFolds=900\n",
    "folds = k_folds_CV(indeces, numberOfFolds)"
   ]
  },
  {
   "cell_type": "code",
   "execution_count": null,
   "metadata": {},
   "outputs": [],
   "source": []
  }
 ],
 "metadata": {
  "kernelspec": {
   "display_name": "Python 3",
   "language": "python",
   "name": "python3"
  },
  "language_info": {
   "codemirror_mode": {
    "name": "ipython",
    "version": 3
   },
   "file_extension": ".py",
   "mimetype": "text/x-python",
   "name": "python",
   "nbconvert_exporter": "python",
   "pygments_lexer": "ipython3",
   "version": "3.6.5"
  }
 },
 "nbformat": 4,
 "nbformat_minor": 2
}
