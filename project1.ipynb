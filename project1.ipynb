{
 "cells": [
  {
   "cell_type": "code",
   "execution_count": null,
   "metadata": {},
   "outputs": [],
   "source": [
    "from mpl_toolkits.mplot3d import Axes3D\n",
    "import matplotlib.pyplot as plt\n",
    "from matplotlib import cm\n",
    "from matplotlib.ticker import LinearLocator, FormatStrFormatter\n",
    "import numpy as np\n",
    "from random import random, seed, randrange\n",
    "from scipy import stats\n",
    "from functions1 import *\n",
    "%matplotlib inline\n",
    "seed=1\n",
    "\n"
   ]
  },
  {
   "cell_type": "code",
   "execution_count": null,
   "metadata": {},
   "outputs": [],
   "source": [
    "x = np.arange(0, 1, 0.01)\n",
    "y = np.arange(0, 1, 0.01)\n",
    "#x = np.random.rand(100,1)\n",
    "#y = np.random.rand(100,1)\n",
    "#print(x)\n",
    "#print(y)\n",
    "x, y = np.meshgrid(x,y)\n",
    "z = FrankeFunction(x, y) +0.02*np.random.randn(100,100)\n",
    "fig=plotTheSurface(x,y,z)\n",
    "fig.show()\n",
    "#fig.savefig('Franke.png',DPI=(200))\n"
   ]
  },
  {
   "cell_type": "markdown",
   "metadata": {},
   "source": [
    "#OSL regression\n",
    "\n",
    "\n"
   ]
  },
  {
   "cell_type": "code",
   "execution_count": null,
   "metadata": {},
   "outputs": [],
   "source": [
    "#transforming to a coluum vector in order to form an x_hat matrix\n",
    "xVector=np.matrix.flatten(x)\n",
    "yVector=np.matrix.flatten(y)\n",
    "#vectorSize=np.size(yVector,0)\n",
    "zVector=np.matrix.flatten(z)\n",
    "sizeVector=np.size(zVector)\n",
    "matrixSize=np.size(y,0)\n"
   ]
  },
  {
   "cell_type": "code",
   "execution_count": null,
   "metadata": {},
   "outputs": [],
   "source": [
    "indeces1=np.linspace(0,sizeVector-1,sizeVector)\n",
    "train1,test1=train_test_split(indeces1, 0.7)\n",
    "train1=train1.astype(int)\n",
    "test1=test1.astype(int)\n",
    "beta,Xinv=OSLregression(xVector[train1],yVector[train1],zVector[train1],3)\n",
    "zPredict=computeZpredict(xVector[test1],yVector[test1],beta,3)\n",
    "print(MSE(zVector[test1],zPredict))\n",
    "print(r2score(zVector[test1],zPredict))"
   ]
  },
  {
   "cell_type": "code",
   "execution_count": null,
   "metadata": {},
   "outputs": [],
   "source": [
    "print(beta)\n",
    "CI=cofidentint(Xinv,zVector[test1],zPredict,beta)\n",
    "print(CI)"
   ]
  },
  {
   "cell_type": "code",
   "execution_count": null,
   "metadata": {},
   "outputs": [],
   "source": [
    "\n",
    " \n",
    "# test cross validation split\n",
    "indeces=np.linspace(0,sizeVector-1,sizeVector)\n",
    "indeces=indeces.astype(int)\n",
    "numberOfFolds=10\n",
    "folds = k_folds_CV(indeces, numberOfFolds)\n",
    "\n",
    "polynom_oders=[3,4,5]"
   ]
  },
  {
   "cell_type": "code",
   "execution_count": null,
   "metadata": {},
   "outputs": [],
   "source": [
    "print(sizeVector)"
   ]
  },
  {
   "cell_type": "code",
   "execution_count": null,
   "metadata": {},
   "outputs": [],
   "source": []
  },
  {
   "cell_type": "code",
   "execution_count": null,
   "metadata": {},
   "outputs": [],
   "source": [
    "zPredictmatrix,statsMatrix,betaMatrix=olsModel(polynom_oders,xVector,yVector,zVector,numberOfFolds,folds,indeces)\n"
   ]
  },
  {
   "cell_type": "code",
   "execution_count": null,
   "metadata": {},
   "outputs": [],
   "source": [
    "bias,var=computeBiasandVar(zPredictmatrix[:,:,2],zVector)\n",
    "print('Bias^2 for the final model is: ' + str(bias))\n",
    "print('Var for the final model is: ' + str(var))\n",
    "beta1=np.mean(betaMatrix[:,:,2],1)\n",
    "z_pred=computeZpredict(xVector,yVector,beta1,5)\n",
    "matrixSize=np.size(y,0)\n",
    "zPredictReshape=np.reshape(z_pred,(matrixSize,matrixSize))\n",
    "fig1=plotTheSurface(x,y,zPredictReshape)\n",
    "fig1.show()\n",
    "#fig1.savefig('olsFranke.png')\n",
    "print(str(MSE(z_pred,zVector)))\n",
    "print(bias + var)"
   ]
  },
  {
   "cell_type": "code",
   "execution_count": null,
   "metadata": {},
   "outputs": [],
   "source": []
  },
  {
   "cell_type": "code",
   "execution_count": null,
   "metadata": {},
   "outputs": [],
   "source": []
  },
  {
   "cell_type": "code",
   "execution_count": null,
   "metadata": {},
   "outputs": [],
   "source": []
  },
  {
   "cell_type": "code",
   "execution_count": null,
   "metadata": {},
   "outputs": [],
   "source": [
    "\n",
    "\n",
    "\n",
    "\n"
   ]
  },
  {
   "cell_type": "code",
   "execution_count": null,
   "metadata": {},
   "outputs": [],
   "source": [
    "\n"
   ]
  },
  {
   "cell_type": "code",
   "execution_count": null,
   "metadata": {},
   "outputs": [],
   "source": [
    "\n",
    "\n"
   ]
  },
  {
   "cell_type": "code",
   "execution_count": null,
   "metadata": {},
   "outputs": [],
   "source": [
    "\n"
   ]
  },
  {
   "cell_type": "code",
   "execution_count": null,
   "metadata": {},
   "outputs": [],
   "source": [
    "\n"
   ]
  },
  {
   "cell_type": "code",
   "execution_count": null,
   "metadata": {},
   "outputs": [],
   "source": []
  },
  {
   "cell_type": "code",
   "execution_count": null,
   "metadata": {},
   "outputs": [],
   "source": [
    "\n",
    "\n"
   ]
  },
  {
   "cell_type": "code",
   "execution_count": null,
   "metadata": {},
   "outputs": [],
   "source": []
  },
  {
   "cell_type": "code",
   "execution_count": null,
   "metadata": {
    "scrolled": false
   },
   "outputs": [],
   "source": [
    "\n"
   ]
  },
  {
   "cell_type": "code",
   "execution_count": null,
   "metadata": {},
   "outputs": [],
   "source": [
    "\n"
   ]
  },
  {
   "cell_type": "code",
   "execution_count": null,
   "metadata": {},
   "outputs": [],
   "source": []
  },
  {
   "cell_type": "code",
   "execution_count": null,
   "metadata": {},
   "outputs": [],
   "source": []
  },
  {
   "cell_type": "code",
   "execution_count": null,
   "metadata": {},
   "outputs": [],
   "source": []
  },
  {
   "cell_type": "code",
   "execution_count": null,
   "metadata": {},
   "outputs": [],
   "source": [
    "from sklearn.linear_model import Lasso\n",
    "lassoreg = Lasso(alpha=0.0001,normalize=True)\n",
    "lassoreg.fit(xMatrix,zVector)\n",
    "z_pred = lassoreg.predict(xMatrix)"
   ]
  },
  {
   "cell_type": "code",
   "execution_count": null,
   "metadata": {},
   "outputs": [],
   "source": []
  },
  {
   "cell_type": "code",
   "execution_count": null,
   "metadata": {},
   "outputs": [],
   "source": [
    "from sklearn.linear_model import Ridge\n",
    "xMatrix=constructX(xVector,yVector,3)\n",
    "ridgereg = Ridge(alpha=0.001,fit_intercept=True)\n",
    "ridgereg.fit(xMatrix,zVector)\n",
    "z_pred = ridgereg.predict(xMatrix)\n",
    "print(MSE(zVector,z_pred))\n",
    "print(r2score(zVector,z_pred))\n",
    "print(ridgereg.coef_)\n",
    "print(ridgereg.intercept_)"
   ]
  },
  {
   "cell_type": "code",
   "execution_count": null,
   "metadata": {},
   "outputs": [],
   "source": [
    "beta,xx=Ridgeregression(xVector,yVector,zVector,3,0.001)\n",
    "zPredictmatrix=computeZpredict(xVector,yVector,beta,3)\n",
    "MSE1=MSE(zVector,zPredictmatrix)\n",
    "r2score1=r2score(zVector,zPredictmatrix)\n",
    "print(MSE1)\n",
    "print(r2score1)\n",
    "print(beta)"
   ]
  },
  {
   "cell_type": "code",
   "execution_count": null,
   "metadata": {},
   "outputs": [],
   "source": [
    "#printing results\n",
    "lambda_values=[1e-3,1e-2,1e-1,1,10,1e2]\n",
    "zPredictmatrix,statsMatrix,betaMatrix=ridge_regress(lambda_values,polynom_oders,xVector,yVector,zVector,numberOfFolds,folds,indeces)\n",
    "for j,order in enumerate(polynom_oders):\n",
    "    for  h,lbd in enumerate(lambda_values): \n",
    "        print(lbd)\n",
    "        print('Average of MSE for polynom order {} is:'.format(str(order)) + str(np.mean(statsMatrix[0,:,h,j])))\n",
    "        print('Average of R2score for polynom order {} is:'.format(str(order)) + str(np.mean(statsMatrix[1,:,h,j])))\n",
    "        print('\\n')\n",
    "\n",
    "beta1=np.mean(betaMatrix[:,:,0,2],1)\n",
    "z_pred=computeZpredict(xVector,yVector,beta1,5)\n",
    "bias,var=computeBiasandVar(zPredictmatrix[:,:,0,2],zVector)\n",
    "print('Bias for the final model is: ' + str(bias))\n",
    "print('Var for the final model is: ' + str(var))\n",
    "\n",
    "matrixSize=np.size(y,0)\n",
    "zPredictReshape=np.reshape(z_pred,(matrixSize,matrixSize))\n",
    "#fig2=plotTheSurface(x,y,zPredictReshape)\n",
    "#fig2.show()\n",
    "#fig2.savefig('RidgeFranke.png',DPI=(200))  \n",
    "print(str(MSE(z_pred,zVector)))\n",
    "print(bias + var)"
   ]
  },
  {
   "cell_type": "code",
   "execution_count": null,
   "metadata": {
    "scrolled": true
   },
   "outputs": [],
   "source": [
    "print(betaMatrix[:,:,0,2])\n"
   ]
  },
  {
   "cell_type": "code",
   "execution_count": null,
   "metadata": {},
   "outputs": [],
   "source": []
  },
  {
   "cell_type": "code",
   "execution_count": null,
   "metadata": {},
   "outputs": [],
   "source": []
  },
  {
   "cell_type": "code",
   "execution_count": null,
   "metadata": {},
   "outputs": [],
   "source": [
    "lambda_values=[1e-3,1e-2,1e-1,1,10,1e2]\n",
    "zPredictmatrix,statsMatrix,betaMatrix=lassoRegress(lambda_values,polynom_oders,xVector,yVector,zVector,numberOfFolds,folds,indeces)\n",
    "for j,order in enumerate(polynom_oders):\n",
    "    for  h,lbd in enumerate(lambda_values): \n",
    "        print(lbd)\n",
    "        print('Average of MSE for polynom order {} is:'.format(str(order)) + str(np.mean(statsMatrix[0,:,h,j])))\n",
    "        print('Average of R2score for polynom order {} is:'.format(str(order)) + str(np.mean(statsMatrix[1,:,h,j])))\n",
    "        print('\\n')"
   ]
  },
  {
   "cell_type": "code",
   "execution_count": null,
   "metadata": {},
   "outputs": [],
   "source": [
    "beta1=np.mean(betaMatrix[:,:,0,2],1)\n",
    "z_pred=computeZpredict(xVector,yVector,beta1,5)\n",
    "bias,var=computeBiasandVar(zPredictmatrix[:,:,0,2],zVector)\n",
    "print('Bias for the final model is: ' + str(bias))\n",
    "print('Var for the final model is: ' + str(var))\n",
    "matrixSize=np.size(y,0)\n",
    "zPredictReshape=np.reshape(z_pred,(matrixSize,matrixSize))\n",
    "#fig2=plotTheSurface(x,y,zPredictReshape)\n",
    "#fig2.show()\n",
    "#fig2.savefig('LassoFranke.png')\n",
    "print(str(MSE(z_pred,zVector)))\n",
    "print(bias + var)"
   ]
  },
  {
   "cell_type": "code",
   "execution_count": null,
   "metadata": {},
   "outputs": [],
   "source": [
    "print(betaMatrix[:,:,0,2])"
   ]
  },
  {
   "cell_type": "code",
   "execution_count": null,
   "metadata": {},
   "outputs": [],
   "source": []
  }
 ],
 "metadata": {
  "kernelspec": {
   "display_name": "Python 3",
   "language": "python",
   "name": "python3"
  },
  "language_info": {
   "codemirror_mode": {
    "name": "ipython",
    "version": 3
   },
   "file_extension": ".py",
   "mimetype": "text/x-python",
   "name": "python",
   "nbconvert_exporter": "python",
   "pygments_lexer": "ipython3",
   "version": "3.6.5"
  }
 },
 "nbformat": 4,
 "nbformat_minor": 2
}
